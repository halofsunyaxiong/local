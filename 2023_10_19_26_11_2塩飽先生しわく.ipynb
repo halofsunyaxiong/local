{
  "nbformat": 4,
  "nbformat_minor": 0,
  "metadata": {
    "colab": {
      "private_outputs": true,
      "provenance": [],
      "cell_execution_strategy": "setup",
      "authorship_tag": "ABX9TyOxo28/TM16Mr1yRtpa64Tn",
      "include_colab_link": true
    },
    "kernelspec": {
      "name": "python3",
      "display_name": "Python 3"
    },
    "language_info": {
      "name": "python"
    }
  },
  "cells": [
    {
      "cell_type": "markdown",
      "metadata": {
        "id": "view-in-github",
        "colab_type": "text"
      },
      "source": [
        "<a href=\"https://colab.research.google.com/github/halofsunyaxiong/local/blob/master/2023_10_19_26_11_2%E5%A1%A9%E9%A3%BD%E5%85%88%E7%94%9F%E3%81%97%E3%82%8F%E3%81%8F.ipynb\" target=\"_parent\"><img src=\"https://colab.research.google.com/assets/colab-badge.svg\" alt=\"Open In Colab\"/></a>"
      ]
    },
    {
      "cell_type": "markdown",
      "source": [
        "# cmd の　問題\n",
        "pythonの　ファイル"
      ],
      "metadata": {
        "id": "KUYZhjxZd55-"
      }
    },
    {
      "cell_type": "code",
      "source": [
        "print(2.5+3)"
      ],
      "metadata": {
        "id": "PLuVMU_deIWz"
      },
      "execution_count": null,
      "outputs": []
    },
    {
      "cell_type": "markdown",
      "source": [
        "# format()で値　を　埋め込み方法"
      ],
      "metadata": {
        "id": "l3jgLyPgiq1i"
      }
    },
    {
      "cell_type": "code",
      "source": [
        "def introduction():\n",
        "  people = '私は{Name}、年齢は{year}歳、仕事は{job}です。'\n",
        "  comment = people.format(Name='孫亜雄',year = 26, job = 'プログラマー')\n",
        "  print(comment)\n",
        "\n",
        "introduction()"
      ],
      "metadata": {
        "id": "L-MtlkI6kLSo"
      },
      "execution_count": null,
      "outputs": []
    },
    {
      "cell_type": "code",
      "source": [
        "def introduction(Name,year,job):\n",
        "  comment = '私は{a}、年齢は{b}歳、仕事は{c}です。'.format(a = Name,b = year, c = job)\n",
        "  print(comment)\n",
        "\n",
        "introduction('sunyaxiong',35,'プログラマー')\n"
      ],
      "metadata": {
        "id": "4-yCj3gHnYwk"
      },
      "execution_count": null,
      "outputs": []
    },
    {
      "cell_type": "markdown",
      "source": [
        "# input"
      ],
      "metadata": {
        "id": "htneQB9VyC1L"
      }
    },
    {
      "cell_type": "code",
      "source": [
        "manager_password = input('please input the password!')\n",
        "if int(manager_password) == 100 :\n",
        "  print('welcome to the system!!!')\n",
        "else:\n",
        " a =  print('Your password is correr.')\n"
      ],
      "metadata": {
        "id": "9HzauWA_yH2B"
      },
      "execution_count": null,
      "outputs": []
    },
    {
      "cell_type": "markdown",
      "source": [
        "# if 関数\n",
        "\n",
        "\n",
        "\n",
        "```\n",
        "if 条件   :\n",
        "\n",
        "\n",
        "elif 条件 :                    \n",
        "\n",
        "\n",
        "else:\n",
        "\n",
        "\n",
        "```\n",
        "\n"
      ],
      "metadata": {
        "id": "LL3ta8dcgF0j"
      }
    },
    {
      "cell_type": "code",
      "source": [
        "Temperature_water = 26\n",
        "if Temperature_water >= 25:\n",
        "    print('氷水を出す')\n",
        "else:\n",
        "    print('熱い水を出す')\n"
      ],
      "metadata": {
        "id": "qkeq0SaBgnZG"
      },
      "execution_count": null,
      "outputs": []
    },
    {
      "cell_type": "code",
      "source": [
        "def The_type_of_number(num):\n",
        "  if num % 2 == 0:\n",
        "    print('The number \\t{}\\t is even number.'.format(num))\n",
        "  else:\n",
        "   print('The number \\t{} \\tis odd number.'.format(num))\n",
        "The_type_of_number(9)\n",
        "The_type_of_number(10)"
      ],
      "metadata": {
        "id": "bJzknfdriSHC"
      },
      "execution_count": null,
      "outputs": []
    },
    {
      "cell_type": "code",
      "source": [
        "# 遊園地のレジシステム\n",
        "\n",
        "\n",
        "def money(num_people):\n",
        "  if num_people >= 10:\n",
        "    money = (num_child*500 + num_adult*1000 + num_oder*700)*0.8\n",
        "    print('団体割引があります。合計：  \\n{}'.format(money))\n",
        "  else:\n",
        "    money = (num_child*500 + num_adult*1000 + num_oder*700)\n",
        "    print('割引がありません。合計： \\n{}'.format(money))\n",
        "\n",
        "num_child =int(input('please input the numbers of child,1-12years.\\n'))\n",
        "\n",
        "num_adult =int(input('please input the numbers of adult,13-64years.\\n'))\n",
        "\n",
        "num_oder =int(input('please input the numbers of oder,65--years.\\n'))\n",
        "\n",
        "num_people = num_child + num_adult + num_oder\n",
        "money(num_people)"
      ],
      "metadata": {
        "id": "tnAnrfvjtV99"
      },
      "execution_count": null,
      "outputs": []
    },
    {
      "cell_type": "code",
      "source": [
        "def money(num_people):\n",
        "  if num_people >= 10:\n",
        "    money = (num_child*500 + num_adult*1000 + num_oder*700)*0.8\n",
        "    print('団体割引があります。\\n 合計： \\n{}円'.format(money))\n",
        "  else:\n",
        "    money = (num_child*500 + num_adult*1000 + num_oder*700)\n",
        "    print('割引がありません。合計： \\n{}円'.format(money))\n",
        "\n",
        "num_child =int(input('子供料金(13歳未満)は何人.\\n'))\n",
        "\n",
        "num_adult =int(input('通常料金(13－64歳)は何人.\\n'))\n",
        "\n",
        "num_oder =int(input('年配者料金(65歳以上)は何人.\\n'))\n",
        "\n",
        "num_people = num_child + num_adult + num_oder\n",
        "\n",
        "money(num_people)"
      ],
      "metadata": {
        "id": "aXsUhDXXwl7C"
      },
      "execution_count": null,
      "outputs": []
    },
    {
      "cell_type": "code",
      "source": [
        "# BMI\n",
        "def Bmi_Result(BMI):\n",
        "  if BMI < 18.5:\n",
        "    result = '瘦せ型'\n",
        "    print('判定：{}'.format(result))\n",
        "  elif BMI >= 18.5 and BMI < 25:\n",
        "    result = '普通型'\n",
        "    print('判定：{}'.format(result))\n",
        "    return result\n",
        "  elif BMI >= 25 and BMI < 30:\n",
        "    result = '肥満(軽)'\n",
        "    print('判定：{}'.format(result))\n",
        "  else:\n",
        "    result = '肥満(重)'\n",
        "    print('判定：{}'.format(result))\n",
        "weight = float(input('体重(kg)は？.\\n'))\n",
        "# たいじゅう\n",
        "height = float(input('身長(㎝)は？.\\n'))\n",
        "height = height / 100\n",
        "BMI = weight / (height * height)\n",
        "print('BＭI：{}'.format(BMI))\n",
        "Bmi_Result(BMI)\n"
      ],
      "metadata": {
        "id": "PNiv1KAR2OJx"
      },
      "execution_count": null,
      "outputs": []
    },
    {
      "cell_type": "code",
      "source": [
        "# 上宇年　うるう年　うるうどし\n",
        "\n",
        "\n"
      ],
      "metadata": {
        "id": "Gt7AMAQUEU5N"
      },
      "execution_count": null,
      "outputs": []
    },
    {
      "cell_type": "markdown",
      "source": [
        "# 論理的計算"
      ],
      "metadata": {
        "id": "vIQrIBzh_Bz_"
      }
    },
    {
      "cell_type": "code",
      "source": [
        "and\n",
        "\n",
        "or\n",
        "\n",
        "not\n"
      ],
      "metadata": {
        "id": "jwrnVQPqUPJa"
      },
      "execution_count": null,
      "outputs": []
    },
    {
      "cell_type": "code",
      "source": [
        "True and ture\n",
        "# ミスがある。\n",
        "True\n",
        "False\n"
      ],
      "metadata": {
        "id": "bR63N1PN9R1u"
      },
      "execution_count": null,
      "outputs": []
    },
    {
      "cell_type": "code",
      "source": [
        "def age_check(Name,age):\n",
        "  if age == 15 and Name == '炭治郎':\n",
        "    print('やあ、炭治郎')\n",
        "  elif age < 15:\n",
        "    print('炭治郎じやないね、まだ子供だね')\n",
        "  elif age < 20:\n",
        "   print('炭治郎じやないね、でも仲間だね')\n",
        "  elif age > 20 and age <= 80:\n",
        "   print('炭治郎じやないね、大人だね')\n",
        "  elif age > 80:\n",
        "   print('炭治郎じやないね、それにしても長生きだね')\n",
        "  elif age > 150:\n",
        "   print('出たな鬼')\n",
        "Name = input('名前：')\n",
        "age = int(input('年齢：'))\n",
        "age_check(Name,age)"
      ],
      "metadata": {
        "id": "qq5GhSJNMzlO"
      },
      "execution_count": null,
      "outputs": []
    },
    {
      "cell_type": "code",
      "source": [
        "energy = 67\n",
        "\n",
        "while energy > 0:\n",
        "  print('+ 走る')\n",
        "  print('| energy=',energy)\n",
        "  energy -=  1"
      ],
      "metadata": {
        "id": "V1IlJVzSYk8L"
      },
      "execution_count": null,
      "outputs": []
    },
    {
      "cell_type": "markdown",
      "source": [
        "# ２０２３．10.26\n",
        "\n",
        "\n",
        "\n",
        "## 繰り返し　　for i in range():\n",
        "\n"
      ],
      "metadata": {
        "id": "OL2gNJRlcrFQ"
      }
    },
    {
      "cell_type": "code",
      "source": [
        "for i in range(5):\n",
        "  print(i)"
      ],
      "metadata": {
        "id": "EjlbUWc2c2cR"
      },
      "execution_count": null,
      "outputs": []
    },
    {
      "cell_type": "code",
      "source": [
        "for i in range(1,11):\n",
        "  print(i)"
      ],
      "metadata": {
        "id": "PWfuBag-dQZQ"
      },
      "execution_count": null,
      "outputs": []
    },
    {
      "cell_type": "code",
      "source": [
        "for i in range(1,11,2):\n",
        "  print(i)"
      ],
      "metadata": {
        "id": "AV7AJatzdfIF"
      },
      "execution_count": null,
      "outputs": []
    },
    {
      "cell_type": "code",
      "source": [
        "for i in range(1,12,4):\n",
        "# 4 （すってぷ）スッテプ/////　　step　　中国語　：　步長是 4\n",
        "  print(i)"
      ],
      "metadata": {
        "id": "4tyYDy24dxqd"
      },
      "execution_count": null,
      "outputs": []
    },
    {
      "cell_type": "code",
      "source": [
        "count = 0\n",
        "for i in range(100):\n",
        "  count = i + i\n",
        "  i += 1\n",
        "print(count)"
      ],
      "metadata": {
        "id": "g2E7aBvlfiTD"
      },
      "execution_count": null,
      "outputs": []
    },
    {
      "cell_type": "markdown",
      "source": [
        "## 調用python的tkinter畫圖功能。\n",
        "google colab 是不能使用的，主要是不能夠產生圖像。\n",
        "\n",
        "\n",
        "\n",
        "```\n",
        "TclError: no display name and no $DISPLAY environment variable\n",
        "```\n",
        "\n"
      ],
      "metadata": {
        "id": "MoZruxiqtZfz"
      }
    },
    {
      "cell_type": "code",
      "source": [
        "from tkinter import *\n",
        "\n",
        "root = Tk()\n",
        "w = Canvas(root, width=1000, height=1000)\n",
        "w.pack()\n",
        "for i in range(300):\n",
        "    x = i * 3\n",
        "    w.create_line(x, 0, x, 1000, fill='#ff0000')\n",
        "\n",
        "root.mainloop()"
      ],
      "metadata": {
        "id": "Wdgf11VBtk13"
      },
      "execution_count": null,
      "outputs": []
    },
    {
      "cell_type": "markdown",
      "source": [
        "## break /////  continue"
      ],
      "metadata": {
        "id": "0y3-rrUf4IpA"
      }
    },
    {
      "cell_type": "code",
      "source": [
        "for i in range(1,14,2):\n",
        "  print(i)\n",
        "  if i ==  7 :\n",
        "    break\n",
        "\n",
        "  # このプログラムは　直接に中止する。"
      ],
      "metadata": {
        "id": "SYL27OKh4Py7"
      },
      "execution_count": null,
      "outputs": []
    },
    {
      "cell_type": "code",
      "source": [
        "for i in range(1,100,2):\n",
        "  print(1)\n",
        "  if i == 7 17 27 37 48 48:\n"
      ],
      "metadata": {
        "id": "wwIHI-5I5FiD"
      },
      "execution_count": null,
      "outputs": []
    },
    {
      "cell_type": "markdown",
      "source": [
        "# list\n",
        "\n",
        "## list 的索引"
      ],
      "metadata": {
        "id": "OHq46R1hiFzZ"
      }
    },
    {
      "cell_type": "code",
      "source": [
        "List_1 = [10,22,30,45]\n",
        "a = List_1[4]\n",
        "print(4)\n",
        "#  中國語a 的值是列表的索引\n",
        "#  エラーがあります。\n",
        "# list index out of range"
      ],
      "metadata": {
        "id": "gyX7ckoyiLMF"
      },
      "execution_count": null,
      "outputs": []
    },
    {
      "cell_type": "code",
      "source": [
        "List_1 = [10,22,30,45]\n",
        "List_1[0]\n",
        "List_1[1]\n",
        "List_1[2]\n",
        "List_1[3]\n",
        "List_1[4]"
      ],
      "metadata": {
        "id": "i4sth4eqmW8k"
      },
      "execution_count": null,
      "outputs": []
    },
    {
      "cell_type": "code",
      "source": [
        "points = [88,76,67,43,79,80,91]\n",
        "count = 0\n",
        "for i in points:\n",
        "  count += i\n",
        "\n",
        "print(count)\n"
      ],
      "metadata": {
        "id": "q459Wl0enkku"
      },
      "execution_count": null,
      "outputs": []
    },
    {
      "cell_type": "markdown",
      "source": [
        "## list的相加\n",
        "sum()"
      ],
      "metadata": {
        "id": "MrLAI8zIzjq8"
      }
    },
    {
      "cell_type": "code",
      "source": [
        "points = [88,76,67,43,79,80,91]\n",
        "v = sum(points)\n",
        "print(v)"
      ],
      "metadata": {
        "id": "znTgGff6zqRs"
      },
      "execution_count": null,
      "outputs": []
    },
    {
      "cell_type": "markdown",
      "source": [
        "## list の長さ\n",
        "\n",
        "## len() 函數"
      ],
      "metadata": {
        "id": "-4_eFY2ckTnO"
      }
    },
    {
      "cell_type": "code",
      "source": [
        "b = [1,4,5,6,7]\n",
        "print(len(b))"
      ],
      "metadata": {
        "id": "2OGIutGJkWp6"
      },
      "execution_count": null,
      "outputs": []
    },
    {
      "cell_type": "markdown",
      "source": [
        "## 函數enumerate()\n",
        "\n",
        "enumerate() 函数用于将一个可遍历的数据对象(如列表、元组或字符串)组合为一个索引序列\n",
        "\n",
        "，同时列出数据和数据下标，一般用在 for 循环当中。\n",
        "\n",
        "Python 2.3. 以上版本可用，2.6 添加 start 参数。"
      ],
      "metadata": {
        "id": "qTPU84zOx7ii"
      }
    },
    {
      "cell_type": "code",
      "source": [
        "list_2 = ['huawei','apple','sony','xiaomi','tosiba']\n",
        "for a, b in enumerate(list_2):\n",
        "  print(a,b)"
      ],
      "metadata": {
        "id": "UpMr4hXryCA-"
      },
      "execution_count": null,
      "outputs": []
    },
    {
      "cell_type": "code",
      "source": [
        "list_2 = ['huawei','apple','sony','xiaomi','tosiba']\n",
        "for a, b in enumerate(list_2,2):\n",
        "  print(a,b)"
      ],
      "metadata": {
        "id": "W9Jq7uuRy5yg"
      },
      "execution_count": null,
      "outputs": []
    },
    {
      "cell_type": "markdown",
      "source": [
        "## appendメソッド\n",
        "\n",
        "append()"
      ],
      "metadata": {
        "id": "hI2lWhLZ5-xs"
      }
    },
    {
      "cell_type": "code",
      "source": [
        "list_2 = ['huawei','apple','sony','xiaomi','tosiba']\n",
        "a = [88,76,67,43,79,80,91]\n",
        "a.append(list_2)\n",
        "a"
      ],
      "metadata": {
        "id": "pIWmraJE6QSI"
      },
      "execution_count": null,
      "outputs": []
    },
    {
      "cell_type": "code",
      "source": [
        "a = [88,76,67,43,79,80,91]\n",
        "a.append(['huawei','apple','sony','xiaomi','tosiba'])\n",
        "a"
      ],
      "metadata": {
        "id": "csL0NoK77dYV"
      },
      "execution_count": null,
      "outputs": []
    },
    {
      "cell_type": "code",
      "source": [
        "a = [88,76,67,43,79,80,91]\n",
        "a.append('huawei','apple','sony','xiaomi','tosiba')\n",
        "a"
      ],
      "metadata": {
        "id": "ln0OuA6A7k9m"
      },
      "execution_count": null,
      "outputs": []
    },
    {
      "cell_type": "markdown",
      "source": [
        "## The difficute of append  and  extend   \n",
        "\n",
        "\n",
        "\n",
        "```\n",
        ">>> li = ['a', 'b', 'c']  \n",
        ">>> li.extend(['d', 'e', 'f'])   \n",
        ">>> li  \n",
        "['a', 'b', 'c', 'd', 'e', 'f']  \n",
        ">>> len(li)                      \n",
        "6  \n",
        ">>> li[-1]  \n",
        "'f'  \n",
        "\n",
        ">>> li = ['a', 'b', 'c']  \n",
        ">>> li.append(['d', 'e', 'f'])   \n",
        ">>> li  \n",
        "['a', 'b', 'c', ['d', 'e', 'f']]  \n",
        ">>> len(li)                      \n",
        "4  \n",
        ">>> li[-1]  \n",
        "['d', 'e', 'f']  \n",
        "```\n",
        "\n"
      ],
      "metadata": {
        "id": "4_Swt7Ds8pZT"
      }
    },
    {
      "cell_type": "markdown",
      "source": [
        "## ⚓⚓⚓⚓⚓⚓⚓ the of slices of list.   slicesスライス\n",
        "this is very important.\n"
      ],
      "metadata": {
        "id": "TIvgNbXX0Clm"
      }
    },
    {
      "cell_type": "code",
      "source": [
        "d = [10,555,30,45]\n",
        "d[0:2]"
      ],
      "metadata": {
        "id": "fZz1zxe-9LVT"
      },
      "execution_count": null,
      "outputs": []
    },
    {
      "cell_type": "code",
      "source": [
        "d = [10,555,30,45]\n",
        "d[:]"
      ],
      "metadata": {
        "id": "wUiurWPx9b2M"
      },
      "execution_count": null,
      "outputs": []
    },
    {
      "cell_type": "code",
      "source": [
        "d = [10,555,30,45]\n",
        "d[0]"
      ],
      "metadata": {
        "id": "jYmo9yRz9hqT"
      },
      "execution_count": null,
      "outputs": []
    },
    {
      "cell_type": "code",
      "source": [
        "# ⚓⚓⚓⚓⚓⚓\n",
        "\n",
        "\n",
        "y = [1,2,3,4,5,6,7,8,9,0]\n",
        "ww =y[-10:-2]\n",
        "print(ww)\n",
        "xx =y[-10:]\n",
        "print(xx)"
      ],
      "metadata": {
        "id": "tRzuxnLj_zOm"
      },
      "execution_count": null,
      "outputs": []
    },
    {
      "cell_type": "code",
      "source": [
        "y = [1,2,3,4,5,6,7,8,9,0]\n",
        "del y[-10:-5]\n",
        "y"
      ],
      "metadata": {
        "id": "jWboq8ZXAvQG"
      },
      "execution_count": null,
      "outputs": []
    },
    {
      "cell_type": "code",
      "source": [
        "y = [1,2,3,4,5,6,7,8,9,0]\n",
        "y.clear()\n",
        "y"
      ],
      "metadata": {
        "id": "zCInAAwjBBpY"
      },
      "execution_count": null,
      "outputs": []
    },
    {
      "cell_type": "code",
      "source": [
        "\n",
        "y = [1,2,3,4,5,6,7,8,9,0]\n",
        "y.insert(-9,67)\n",
        "\n",
        "print(y)\n",
        "print('------------------------------')\n",
        "# y列表的索引為：-10,-9,-8,-7,-6,-5,-4,-3,-2,-1\n",
        "# y列表的索引為：0，1，2，3，4，5，6，7，8，9\n",
        "# 原來的-9的位置是2，insert的函數的意思是在索引-9的位置插入67.最後使得y的數列增加一位。\n",
        "z= [1,2,3,4,5,6,7,8,9,0]\n",
        "z.insert(1,67)\n",
        "print(z)"
      ],
      "metadata": {
        "id": "OQdvkwoiBLhz"
      },
      "execution_count": null,
      "outputs": []
    },
    {
      "cell_type": "code",
      "source": [
        "y = [1,2,3,4,5,6,7,8,9,0]\n",
        "y.append(89)\n",
        "y\n"
      ],
      "metadata": {
        "id": "IDksRj40BjkH"
      },
      "execution_count": null,
      "outputs": []
    },
    {
      "cell_type": "code",
      "source": [
        "\n",
        "y = [1,2,3,4,5,6,7,8,9,0]\n",
        "type(y)"
      ],
      "metadata": {
        "id": "XSnEjflZDwNY"
      },
      "execution_count": null,
      "outputs": []
    },
    {
      "cell_type": "markdown",
      "source": [
        "## tuple  元組\n",
        "\n",
        "⚓⚓⚓⚓⚓⚓⚓⚓⚓⚓⚓⚓⚓⚓⚓⚓⚓⚓⚓⚓⚓⚓⚓⚓⚓⚓⚓⚓⚓⚓⚓⚓\n",
        "\n",
        "列表定义的时候使用[ ],元组使用( )\n",
        "\n",
        "列表可以改变的，但是元组不可变，也就是元组定义好以后我们不能修改里面的元素\n",
        "\n",
        "能使用元组的尽量使用元组\n"
      ],
      "metadata": {
        "id": "PEm4sR06ETQQ"
      }
    },
    {
      "cell_type": "code",
      "source": [
        "a = (1,2,3,4,5,6,7,8)\n",
        "a[1] = 67\n",
        "a\n",
        "#  'tuple' object does not support item assignmentyi\n",
        "#  元組不能夠改變元素的值，注意，注意至於"
      ],
      "metadata": {
        "id": "VOyCKn-fFT6Y"
      },
      "execution_count": null,
      "outputs": []
    },
    {
      "cell_type": "code",
      "source": [
        "a = [1,2,3,4,5,6,7,8]\n",
        "a[1] = 67\n",
        "a"
      ],
      "metadata": {
        "id": "zlUwTEw2FkVx"
      },
      "execution_count": null,
      "outputs": []
    },
    {
      "cell_type": "code",
      "source": [
        "a = [1,2,3,4,5,6,7,8]\n",
        "\n",
        "a.append(9)\n",
        "a"
      ],
      "metadata": {
        "id": "CpM1PmtLGTxv"
      },
      "execution_count": null,
      "outputs": []
    },
    {
      "cell_type": "code",
      "source": [
        "b = (1,2,3,4,5,6,7,8)\n",
        "b.append(9)\n",
        "b"
      ],
      "metadata": {
        "id": "j1yirzekG1Eh"
      },
      "execution_count": null,
      "outputs": []
    },
    {
      "cell_type": "code",
      "source": [
        "a = (1,2,3,4,5,6,7,8)\n",
        "a[1:5]"
      ],
      "metadata": {
        "id": "izCOX1EGEhem"
      },
      "execution_count": null,
      "outputs": []
    },
    {
      "cell_type": "markdown",
      "source": [
        "## 集合\n",
        "\n"
      ],
      "metadata": {
        "id": "tCuVapSJHKrV"
      }
    },
    {
      "cell_type": "code",
      "source": [
        "o = {1,23,4,55,67,78,8}\n",
        "type(o)"
      ],
      "metadata": {
        "id": "GY781MBIHgm9"
      },
      "execution_count": null,
      "outputs": []
    },
    {
      "cell_type": "code",
      "source": [
        "o = {1,23,455,666,666,666,77,88,0}\n",
        "type(o)"
      ],
      "metadata": {
        "id": "5oHmv5T5Hy-G"
      },
      "execution_count": null,
      "outputs": []
    },
    {
      "cell_type": "code",
      "source": [
        "o = {1,23,455,666,666,666,77,88,0}\n",
        "o[1]"
      ],
      "metadata": {
        "id": "muuZLLaKIP08"
      },
      "execution_count": null,
      "outputs": []
    },
    {
      "cell_type": "code",
      "source": [
        "a = [1,5,2,9,6,8]\n",
        "odd_list = []\n",
        "even_list = []\n",
        "\n",
        "for i in a:\n",
        "  if i % 2 == 0:\n",
        "    even_list.append(i)\n",
        "  else:\n",
        "    odd_list.append(i)\n",
        "print('このリストの偶数は：',even_list)\n",
        "print('このリストの奇数は：',odd_list)"
      ],
      "metadata": {
        "id": "m8qF-RJALXLE"
      },
      "execution_count": null,
      "outputs": []
    },
    {
      "cell_type": "code",
      "source": [
        "num_list = [16,8,18,9,32,21]\n",
        "three_list = []\n",
        "four_list = []\n",
        "   for i in num_list:\n",
        "    if i % 3 == 0:\n",
        "    three_list.append(i)\n",
        "    else i %4 == 0:\n",
        "    four_list.append(i)\n",
        "\n"
      ],
      "metadata": {
        "id": "oB-O5V0lQWUe"
      },
      "execution_count": null,
      "outputs": []
    },
    {
      "cell_type": "markdown",
      "source": [
        "## 辞書型\n",
        "\n"
      ],
      "metadata": {
        "id": "GkmC89fDbwkc"
      }
    },
    {
      "cell_type": "code",
      "source": [
        "s_dict = {'sunyaxiong':89,'liming':56,'zhangqiang':78,'liqing':100}\n",
        "type(s_dict)"
      ],
      "metadata": {
        "id": "Tes3umfSb68M"
      },
      "execution_count": null,
      "outputs": []
    },
    {
      "cell_type": "code",
      "source": [
        "s_dict = {'sunyaxiong':89,'liming':56,'zhangqiang':78,'liqing':100}\n",
        "s_dict[89]\n"
      ],
      "metadata": {
        "id": "Khh_LegHcVY2"
      },
      "execution_count": null,
      "outputs": []
    },
    {
      "cell_type": "code",
      "source": [
        "s_dict = {'sunyaxiong':89,'liming':56,'zhangqiang':78,'liqing':100}\n",
        "s_dict['sunyaxiong']"
      ],
      "metadata": {
        "id": "6hnjPUL0czfm"
      },
      "execution_count": null,
      "outputs": []
    },
    {
      "cell_type": "code",
      "source": [
        "s_dict = {'sunyaxiong':89,'liming':56,'zhangqiang':78,'liqing':100}\n",
        "s_dict[sunyaxiong]"
      ],
      "metadata": {
        "id": "LXDPiG6mc6LS"
      },
      "execution_count": null,
      "outputs": []
    },
    {
      "cell_type": "code",
      "source": [
        "s_dict = {'sunyaxiong':89,'liming':56,'zhangqiang':78,'liqing':100}\n",
        "s_dict['zhangqiang']=9000\n",
        "s_dict"
      ],
      "metadata": {
        "id": "I1pwMvxxc-Uo"
      },
      "execution_count": null,
      "outputs": []
    },
    {
      "cell_type": "code",
      "source": [
        "s_dict = {'sunyaxiong':89,'liming':56,'zhangqiang':78,'liqing':100}\n",
        "'zhangqiang' in s_dict"
      ],
      "metadata": {
        "id": "FTrHLGlSdTOB"
      },
      "execution_count": null,
      "outputs": []
    },
    {
      "cell_type": "code",
      "source": [
        "s_dict = {'sunyaxiong':89,'liming':56,'zhangqiang':78,'liqing':100}\n",
        "89 in s_dict"
      ],
      "metadata": {
        "id": "d8qGSILHdgt4"
      },
      "execution_count": null,
      "outputs": []
    },
    {
      "cell_type": "markdown",
      "source": [
        "### 課題"
      ],
      "metadata": {
        "id": "rFZkNIVxdTjc"
      }
    },
    {
      "cell_type": "code",
      "source": [
        "import random\n",
        "right_num = 0\n",
        "orrer_num = 0\n",
        "for i in range(5):\n",
        "  a = random.randint(1,100)\n",
        "  b = random.randint(1,100)\n",
        "  c = a  + b\n",
        "if i"
      ],
      "metadata": {
        "id": "VYbRxuW_dmtA"
      },
      "execution_count": null,
      "outputs": []
    },
    {
      "cell_type": "markdown",
      "source": [
        "# 11月2日"
      ],
      "metadata": {
        "id": "OYvXSfVddl_a"
      }
    },
    {
      "cell_type": "markdown",
      "source": [
        "## 集合　しゅうごう"
      ],
      "metadata": {
        "id": "CyLAj6xDdzFB"
      }
    },
    {
      "cell_type": "code",
      "source": [
        "# きすう\n",
        "# ぐうすう\n",
        "# かつ　　　且　　而且    两者都有符合\n",
        "# または　　又は　或者　  一者符合即可\n",
        "# 実数"
      ],
      "metadata": {
        "id": "Qp1Whxr6jxPu"
      },
      "execution_count": null,
      "outputs": []
    },
    {
      "cell_type": "code",
      "source": [
        "a = 100\n",
        "b = 200\n",
        "a = b\n",
        "print(a)\n",
        "\n"
      ],
      "metadata": {
        "id": "OLSVscRenwY_"
      },
      "execution_count": null,
      "outputs": []
    },
    {
      "cell_type": "code",
      "source": [
        "a = 100\n",
        "b = 200\n",
        "b = a\n",
        "print(b)"
      ],
      "metadata": {
        "id": "xywbp_tuphg0"
      },
      "execution_count": null,
      "outputs": []
    },
    {
      "cell_type": "code",
      "source": [
        "a = 100\n",
        "b = 200\n",
        "a, b = b, a\n",
        "print(\"a=\",a,\"a=\",b)"
      ],
      "metadata": {
        "id": "LSAbBXPbsN_w"
      },
      "execution_count": null,
      "outputs": []
    },
    {
      "cell_type": "code",
      "source": [
        "a = 5\n",
        "b = 10\n",
        "if a > b:\n",
        "  print(\"最大値はa：\",a)\n",
        "else:\n",
        "  print(\"最大値はb：\",b)\n",
        "\n"
      ],
      "metadata": {
        "id": "mcdRKvAZprRB"
      },
      "execution_count": null,
      "outputs": []
    },
    {
      "cell_type": "code",
      "source": [
        "\n",
        "text = '''keep on asking, and it will be given you; keep on seeking, and you will find; and to everyone knocking, it will be opened.'''\n",
        "text = text.replace(',','')\n",
        "text = text.replace(';','')\n",
        "text = text.replace('.','')\n",
        "\n",
        "words = text.split()\n",
        "\n",
        "counter = {}\n",
        "for w in words:\n",
        "  WS = w.lower()\n",
        "# small\n",
        "  if WS in counter:\n",
        "    counter[WS] += 1\n",
        "  else:\n",
        "    counter[WS] = 1\n",
        "for k,v in sorted(counter.items()):\n",
        "  if v >= 3:\n",
        "    print(k,v)"
      ],
      "metadata": {
        "id": "QVNerks37OlO"
      },
      "execution_count": null,
      "outputs": []
    },
    {
      "cell_type": "code",
      "source": [
        "sort()\n"
      ],
      "metadata": {
        "id": "E4W2FFERmIep"
      },
      "execution_count": null,
      "outputs": []
    },
    {
      "cell_type": "markdown",
      "source": [
        "## The split method of spring\n"
      ],
      "metadata": {
        "id": "oJVoqEtZoYuK"
      }
    },
    {
      "cell_type": "markdown",
      "source": [
        "## spring\n",
        "## 文字列\n"
      ],
      "metadata": {
        "id": "8edQ3CGDth0V"
      }
    },
    {
      "cell_type": "code",
      "source": [
        "# 文字列.split\n",
        "def spring_01(s):\n",
        "  split_of_spring = s.split(\" \",maxsplit=1)\n",
        "  print(split_of_spring)\n",
        "\n",
        "\n",
        "f = \"this is a spring\"\n",
        "spring_01(f)"
      ],
      "metadata": {
        "id": "tYMyBRLNoklg"
      },
      "execution_count": null,
      "outputs": []
    },
    {
      "cell_type": "code",
      "source": [
        "# 文字列.split\n",
        "def spring_01(s):\n",
        "  split_of_spring = s.split(\"/\",maxsplit=-1)\n",
        "  print(split_of_spring)\n",
        "\n",
        "\n",
        "f = \"2020/02/20\"\n",
        "spring_01(f)"
      ],
      "metadata": {
        "id": "KMnlcQ8bq96t"
      },
      "execution_count": null,
      "outputs": []
    },
    {
      "cell_type": "code",
      "source": [
        "# 文字列.split\n",
        "def spring_01(s):\n",
        "  split_of_spring = s.split(\"/\",maxsplit=0)\n",
        "  print(split_of_spring)\n",
        "\n",
        "\n",
        "f = \"2020/02/20\"\n",
        "spring_01(f)"
      ],
      "metadata": {
        "id": "YqNJAbkurDx7"
      },
      "execution_count": null,
      "outputs": []
    },
    {
      "cell_type": "code",
      "source": [
        "# 文字列.split\n",
        "# Here, maxsplit=2 specifies that the string should be split into at most 2 parts.\n",
        "# Therefore, the first two commas encountered in the string are used as separators and\n",
        "# the remaining part of the string is considered as a single element of the resulting list.\n",
        "# I hope this helps! Let me know if you have any more questions.\n",
        "\n",
        "\n",
        "\n",
        "def spring_01(s):\n",
        "  split_of_spring = s.split(\"/\",maxsplit=2)\n",
        "  print(split_of_spring)\n",
        "\n",
        "f = \"2020/02/20\"\n",
        "spring_01(f)"
      ],
      "metadata": {
        "id": "ZNrIoDnfrKwx"
      },
      "execution_count": null,
      "outputs": []
    },
    {
      "cell_type": "code",
      "source": [
        "# 文字列.split の　三つは意味がない\n",
        "def spring_01(s):\n",
        "  split_of_spring = s.split(\"/\",maxsplit=3)\n",
        "  print(split_of_spring)\n",
        "\n",
        "\n",
        "f = \"2020/02/20\"\n",
        "spring_01(f)"
      ],
      "metadata": {
        "id": "e28exLkzrOWT"
      },
      "execution_count": null,
      "outputs": []
    },
    {
      "cell_type": "code",
      "source": [
        "# 文字列.split よっつは　意味がない。\n",
        "def spring_01(s):\n",
        "  split_of_spring = s.split(\"/\",maxsplit=1)\n",
        "  print(split_of_spring)\n",
        "\n",
        "\n",
        "f = \"2020/02/20\"\n",
        "spring_01(f)"
      ],
      "metadata": {
        "id": "NLKwsnvxqtB4"
      },
      "execution_count": null,
      "outputs": []
    },
    {
      "cell_type": "markdown",
      "source": [
        "## The join method of spring\n",
        "\n",
        "```\n",
        "\"\\\\\".join(spring_name)\n",
        "```\n",
        "\n"
      ],
      "metadata": {
        "id": "H54LdCqlt01P"
      }
    },
    {
      "cell_type": "code",
      "source": [
        "q = \"This is the second spring.\"\n",
        "join_spring = \"##\".join(q)\n",
        "print(join_spring)"
      ],
      "metadata": {
        "id": "tYIBQYSQum0w"
      },
      "execution_count": null,
      "outputs": []
    },
    {
      "cell_type": "code",
      "source": [
        "w = \"hello.how are you?\"\n",
        "s = w.split(\".\",maxsplit=1)\n",
        "e = s[0].capitalize()\n",
        "r = s[1].capitalize()\n",
        "print(e+\".\"+r)"
      ],
      "metadata": {
        "id": "0rjLqdvNwdqu"
      },
      "execution_count": null,
      "outputs": []
    },
    {
      "cell_type": "code",
      "source": [
        "w = \"   ABC    \"\n",
        "s = w.strip()\n",
        "small =s.lower()\n",
        "print(small)"
      ],
      "metadata": {
        "id": "1wfvYyKLzXKQ"
      },
      "execution_count": null,
      "outputs": []
    },
    {
      "cell_type": "markdown",
      "source": [
        "# ⚛⚛⚛⚛⚛⚛関数    とても重要\n"
      ],
      "metadata": {
        "id": "WZcRwuYV4kxt"
      }
    },
    {
      "cell_type": "markdown",
      "source": [
        "## 定義\n",
        "\n",
        "def\n",
        "\n",
        "関数名\n",
        "\n",
        "引数　　ひきすう\n",
        "\n",
        "\n",
        "\n",
        "```\n",
        "def 関数名(引数):\n",
        "    return 戻り値　もどりち\n",
        "```\n",
        "```\n",
        "              引数\n",
        "___________________________________________\n",
        "      　　　　  |aru      |nai\n",
        "___________________________________________\n",
        "戻り値　|aru|    1         2\n",
        "____________________________________________\n",
        "戻り値　|nai|    3         4   \n",
        "```"
      ],
      "metadata": {
        "id": "No9arlVj7Tlp"
      }
    },
    {
      "cell_type": "code",
      "source": [
        "def mul(a,b):\n",
        "  return a*b\n",
        "\n",
        "\n",
        "print(mul(1,5))"
      ],
      "metadata": {
        "id": "KKYmAePQ_n3a"
      },
      "execution_count": null,
      "outputs": []
    },
    {
      "cell_type": "code",
      "source": [
        "#  印刷の税\n",
        "def taxPrint(price,precent,sell):\n",
        "  totalTaxPrint = price * precent * sell\n",
        "  return totalTaxPrint\n",
        "\n"
      ],
      "metadata": {
        "id": "XWLhn5wgChGN"
      },
      "execution_count": null,
      "outputs": []
    }
  ]
}