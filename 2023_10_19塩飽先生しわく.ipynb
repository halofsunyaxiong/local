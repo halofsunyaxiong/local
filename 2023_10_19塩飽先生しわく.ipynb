{
  "nbformat": 4,
  "nbformat_minor": 0,
  "metadata": {
    "colab": {
      "private_outputs": true,
      "provenance": [],
      "authorship_tag": "ABX9TyOg5DVVRcaw4Pgv351un8cW",
      "include_colab_link": true
    },
    "kernelspec": {
      "name": "python3",
      "display_name": "Python 3"
    },
    "language_info": {
      "name": "python"
    },
    "accelerator": "TPU"
  },
  "cells": [
    {
      "cell_type": "markdown",
      "metadata": {
        "id": "view-in-github",
        "colab_type": "text"
      },
      "source": [
        "<a href=\"https://colab.research.google.com/github/halofsunyaxiong/local/blob/master/2023_10_19%E5%A1%A9%E9%A3%BD%E5%85%88%E7%94%9F%E3%81%97%E3%82%8F%E3%81%8F.ipynb\" target=\"_parent\"><img src=\"https://colab.research.google.com/assets/colab-badge.svg\" alt=\"Open In Colab\"/></a>"
      ]
    },
    {
      "cell_type": "markdown",
      "source": [
        "# cmd の　問題\n",
        "pythonの　ファイル"
      ],
      "metadata": {
        "id": "KUYZhjxZd55-"
      }
    },
    {
      "cell_type": "code",
      "source": [
        "print(2.5+3)"
      ],
      "metadata": {
        "id": "PLuVMU_deIWz"
      },
      "execution_count": null,
      "outputs": []
    },
    {
      "cell_type": "markdown",
      "source": [
        "# format()で値　を　埋め込み方法"
      ],
      "metadata": {
        "id": "l3jgLyPgiq1i"
      }
    },
    {
      "cell_type": "code",
      "source": [
        "def introduction():\n",
        "  people = '私は{Name}、年齢は{year}歳、仕事は{job}です。'\n",
        "  comment = people.format(Name='孫亜雄',year = 26, job = 'プログラマー')\n",
        "  print(comment)\n",
        "\n",
        "introduction()"
      ],
      "metadata": {
        "id": "L-MtlkI6kLSo"
      },
      "execution_count": null,
      "outputs": []
    },
    {
      "cell_type": "code",
      "source": [
        "def introduction(Name,year,job):\n",
        "  comment = '私は{a}、年齢は{b}歳、仕事は{c}です。'.format(a = Name,b = year, c = job)\n",
        "  print(comment)\n",
        "\n",
        "introduction('sunyaxiong',35,'プログラマー')\n"
      ],
      "metadata": {
        "id": "4-yCj3gHnYwk"
      },
      "execution_count": null,
      "outputs": []
    },
    {
      "cell_type": "markdown",
      "source": [
        "# input"
      ],
      "metadata": {
        "id": "htneQB9VyC1L"
      }
    },
    {
      "cell_type": "code",
      "source": [
        "manager_password = input('please input the password!')\n",
        "if int(manager_password) == 100 :\n",
        "  print('welcome to the system!!!')\n",
        "else:\n",
        " a =  print('Your password is correr.')\n"
      ],
      "metadata": {
        "id": "9HzauWA_yH2B"
      },
      "execution_count": null,
      "outputs": []
    },
    {
      "cell_type": "markdown",
      "source": [
        "# if 関数\n",
        "\n",
        "\n",
        "\n",
        "```\n",
        "if 条件   :\n",
        "\n",
        "\n",
        "elif 条件 :                    \n",
        "\n",
        "\n",
        "else:\n",
        "\n",
        "\n",
        "```\n",
        "\n"
      ],
      "metadata": {
        "id": "LL3ta8dcgF0j"
      }
    },
    {
      "cell_type": "code",
      "source": [
        "Temperature_water = 26\n",
        "if Temperature_water >= 25:\n",
        "    print('氷水を出す')\n",
        "else:\n",
        "    print('熱い水を出す')\n"
      ],
      "metadata": {
        "id": "qkeq0SaBgnZG"
      },
      "execution_count": null,
      "outputs": []
    },
    {
      "cell_type": "code",
      "source": [
        "def The_type_of_number(num):\n",
        "  if num % 2 == 0:\n",
        "    print('The number \\t{}\\t is even number.'.format(num))\n",
        "  else:\n",
        "   print('The number \\t{} \\tis odd number.'.format(num))\n",
        "The_type_of_number(9)\n",
        "The_type_of_number(10)"
      ],
      "metadata": {
        "id": "bJzknfdriSHC"
      },
      "execution_count": null,
      "outputs": []
    },
    {
      "cell_type": "code",
      "source": [
        "# 遊園地のレジシステム\n",
        "\n",
        "\n",
        "def money(num_people):\n",
        "  if num_people >= 10:\n",
        "    money = (num_child*500 + num_adult*1000 + num_oder*700)*0.8\n",
        "    print('団体割引があります。合計：  \\n{}'.format(money))\n",
        "  else:\n",
        "    money = (num_child*500 + num_adult*1000 + num_oder*700)\n",
        "    print('割引がありません。合計： \\n{}'.format(money))\n",
        "\n",
        "num_child =int(input('please input the numbers of child,1-12years.\\n'))\n",
        "\n",
        "num_adult =int(input('please input the numbers of adult,13-64years.\\n'))\n",
        "\n",
        "num_oder =int(input('please input the numbers of oder,65--years.\\n'))\n",
        "\n",
        "num_people = num_child + num_adult + num_oder\n",
        "money(num_people)"
      ],
      "metadata": {
        "id": "tnAnrfvjtV99"
      },
      "execution_count": null,
      "outputs": []
    },
    {
      "cell_type": "code",
      "source": [
        "def money(num_people):\n",
        "  if num_people >= 10:\n",
        "    money = (num_child*500 + num_adult*1000 + num_oder*700)*0.8\n",
        "    print('団体割引があります。\\n 合計： \\n{}円'.format(money))\n",
        "  else:\n",
        "    money = (num_child*500 + num_adult*1000 + num_oder*700)\n",
        "    print('割引がありません。合計： \\n{}円'.format(money))\n",
        "\n",
        "num_child =int(input('子供料金(13歳未満)は何人.\\n'))\n",
        "\n",
        "num_adult =int(input('通常料金(13－64歳)は何人.\\n'))\n",
        "\n",
        "num_oder =int(input('年配者料金(65歳以上)は何人.\\n'))\n",
        "\n",
        "num_people = num_child + num_adult + num_oder\n",
        "\n",
        "money(num_people)"
      ],
      "metadata": {
        "id": "aXsUhDXXwl7C"
      },
      "execution_count": null,
      "outputs": []
    },
    {
      "cell_type": "code",
      "source": [
        "# BMI\n",
        "def Bmi_Result(BMI):\n",
        "  if BMI < 18.5:\n",
        "    result = '瘦せ型'\n",
        "    print('判定：{}'.format(result))\n",
        "  elif BMI >= 18.5 and BMI < 25:\n",
        "    result = '普通型'\n",
        "    print('判定：{}'.format(result))\n",
        "    return result\n",
        "  elif BMI >= 25 and BMI < 30:\n",
        "    result = '肥満(軽)'\n",
        "    print('判定：{}'.format(result))\n",
        "  else:\n",
        "    result = '肥満(重)'\n",
        "    print('判定：{}'.format(result))\n",
        "weight = float(input('体重(kg)は？.\\n'))\n",
        "# たいじゅう\n",
        "height = float(input('身長(㎝)は？.\\n'))\n",
        "height = height / 100\n",
        "BMI = weight / (height * height)\n",
        "print('BＭI：{}'.format(BMI))\n",
        "Bmi_Result(BMI)\n"
      ],
      "metadata": {
        "id": "PNiv1KAR2OJx"
      },
      "execution_count": null,
      "outputs": []
    },
    {
      "cell_type": "code",
      "source": [
        "# 上宇年　うるう年　うるうどし\n",
        "\n",
        "\n"
      ],
      "metadata": {
        "id": "Gt7AMAQUEU5N"
      },
      "execution_count": null,
      "outputs": []
    },
    {
      "cell_type": "markdown",
      "source": [
        "# 論理的計算"
      ],
      "metadata": {
        "id": "vIQrIBzh_Bz_"
      }
    },
    {
      "cell_type": "code",
      "source": [
        "and\n",
        "\n",
        "or\n",
        "\n",
        "not\n"
      ],
      "metadata": {
        "id": "jwrnVQPqUPJa"
      },
      "execution_count": null,
      "outputs": []
    },
    {
      "cell_type": "code",
      "source": [
        "True and ture\n",
        "# ミスがある。\n",
        "True\n",
        "False\n"
      ],
      "metadata": {
        "id": "bR63N1PN9R1u"
      },
      "execution_count": null,
      "outputs": []
    },
    {
      "cell_type": "code",
      "source": [
        "def age_check(Name,age):\n",
        "  if age == 15 and Name == '炭治郎':\n",
        "    print('やあ、炭治郎')\n",
        "  elif age < 15:\n",
        "    print('炭治郎じやないね、まだ子供だね')\n",
        "  elif age < 20:\n",
        "   print('炭治郎じやないね、でも仲間だね')\n",
        "  elif age > 20 and age <= 80:\n",
        "   print('炭治郎じやないね、大人だね')\n",
        "  elif age > 80:\n",
        "   print('炭治郎じやないね、それにしても長生きだね')\n",
        "  elif age > 150:\n",
        "   print('出たな鬼')\n",
        "Name = input('名前：')\n",
        "age = int(input('年齢：'))\n",
        "age_check(Name,age)"
      ],
      "metadata": {
        "id": "qq5GhSJNMzlO"
      },
      "execution_count": null,
      "outputs": []
    },
    {
      "cell_type": "code",
      "source": [
        "energy = 67\n",
        "\n",
        "while energy > 0:\n",
        "  print('+ 走る')\n",
        "  print('| energy=',energy)\n",
        "  energy -=  1"
      ],
      "metadata": {
        "id": "V1IlJVzSYk8L"
      },
      "execution_count": null,
      "outputs": []
    },
    {
      "cell_type": "markdown",
      "source": [
        "# ２０２３．10.26\n",
        "\n",
        "\n",
        "\n",
        "## 繰り返し　　for i in range():\n",
        "\n"
      ],
      "metadata": {
        "id": "OL2gNJRlcrFQ"
      }
    },
    {
      "cell_type": "code",
      "source": [
        "for i in range(5):\n",
        "  print(i)"
      ],
      "metadata": {
        "id": "EjlbUWc2c2cR"
      },
      "execution_count": null,
      "outputs": []
    },
    {
      "cell_type": "code",
      "source": [
        "for i in range(1,11):\n",
        "  print(i)"
      ],
      "metadata": {
        "id": "PWfuBag-dQZQ"
      },
      "execution_count": null,
      "outputs": []
    },
    {
      "cell_type": "code",
      "source": [
        "for i in range(1,11,2):\n",
        "  print(i)"
      ],
      "metadata": {
        "id": "AV7AJatzdfIF"
      },
      "execution_count": null,
      "outputs": []
    },
    {
      "cell_type": "code",
      "source": [
        "for i in range(1,12,4):\n",
        "# 4 （すってぷ）スッテプ/////　　step　　中国語　：　步長是 4\n",
        "  print(i)"
      ],
      "metadata": {
        "id": "4tyYDy24dxqd"
      },
      "execution_count": null,
      "outputs": []
    },
    {
      "cell_type": "code",
      "source": [
        "count = 0\n",
        "for i in range(100):\n",
        "  count = i + i\n",
        "  i += 1\n",
        "print(count)"
      ],
      "metadata": {
        "id": "g2E7aBvlfiTD"
      },
      "execution_count": null,
      "outputs": []
    },
    {
      "cell_type": "markdown",
      "source": [
        "## 調用python的tkinter畫圖功能。\n",
        "google colab 是不能使用的，主要是不能夠產生圖像。\n",
        "\n",
        "\n",
        "\n",
        "```\n",
        "TclError: no display name and no $DISPLAY environment variable\n",
        "```\n",
        "\n"
      ],
      "metadata": {
        "id": "MoZruxiqtZfz"
      }
    },
    {
      "cell_type": "code",
      "source": [
        "from tkinter import *\n",
        "\n",
        "root = Tk()\n",
        "w = Canvas(root, width=1000, height=1000)\n",
        "w.pack()\n",
        "for i in range(300):\n",
        "    x = i * 3\n",
        "    w.create_line(x, 0, x, 1000, fill='#ff0000')\n",
        "\n",
        "root.mainloop()"
      ],
      "metadata": {
        "id": "Wdgf11VBtk13"
      },
      "execution_count": null,
      "outputs": []
    },
    {
      "cell_type": "markdown",
      "source": [
        "## break /////  continue"
      ],
      "metadata": {
        "id": "0y3-rrUf4IpA"
      }
    },
    {
      "cell_type": "code",
      "source": [
        "for i in range(1,14,2):\n",
        "  print(i)\n",
        "  if i ==  7 :\n",
        "    break\n",
        "\n",
        "  # このプログラムは　直接に中止する。"
      ],
      "metadata": {
        "id": "SYL27OKh4Py7"
      },
      "execution_count": null,
      "outputs": []
    },
    {
      "cell_type": "code",
      "source": [
        "for i in range(1,100,2):\n",
        "  print(1)\n",
        "  if i == 7 17 27 37 48 48:\n"
      ],
      "metadata": {
        "id": "wwIHI-5I5FiD"
      },
      "execution_count": null,
      "outputs": []
    }
  ]
}