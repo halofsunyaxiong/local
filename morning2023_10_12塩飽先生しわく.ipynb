{
  "nbformat": 4,
  "nbformat_minor": 0,
  "metadata": {
    "colab": {
      "provenance": [],
      "authorship_tag": "ABX9TyP+uZiGkqtQ8KxKYYgVjmjM",
      "include_colab_link": true
    },
    "kernelspec": {
      "name": "python3",
      "display_name": "Python 3"
    },
    "language_info": {
      "name": "python"
    }
  },
  "cells": [
    {
      "cell_type": "markdown",
      "metadata": {
        "id": "view-in-github",
        "colab_type": "text"
      },
      "source": [
        "<a href=\"https://colab.research.google.com/github/sunyaxiong1996/local/blob/master/morning2023_10_12%E5%A1%A9%E9%A3%BD%E5%85%88%E7%94%9F%E3%81%97%E3%82%8F%E3%81%8F.ipynb\" target=\"_parent\"><img src=\"https://colab.research.google.com/assets/colab-badge.svg\" alt=\"Open In Colab\"/></a>"
      ]
    },
    {
      "cell_type": "markdown",
      "source": [
        "# IOT\n",
        "\n",
        "関連のニュース：\n",
        "\n",
        "画像判別ソリューション　　解（法）解决方案。\n",
        "\n",
        "prediction　one"
      ],
      "metadata": {
        "id": "5ibO-McbSkIz"
      }
    },
    {
      "cell_type": "markdown",
      "source": [
        "# how to see the version of python\n",
        "# >>> import sys\n",
        "# >>> sys.version"
      ],
      "metadata": {
        "id": "9jTqv42zcYPC"
      }
    },
    {
      "cell_type": "markdown",
      "source": [
        "＞＞＞　　このマークは　対話モード"
      ],
      "metadata": {
        "id": "dpawXvvdcacu"
      }
    },
    {
      "cell_type": "markdown",
      "source": [
        "二進数　　にしんすう\n",
        "\n",
        "十進数に変わる\n",
        "\n"
      ],
      "metadata": {
        "id": "DxPnPecrgXnH"
      }
    },
    {
      "cell_type": "code",
      "source": [
        "# python 中的模块（module）导入方式1\n",
        "\n",
        "\n",
        "from math import sqrt\n",
        "a = sqrt(10)\n",
        "print(a)\n",
        "print('-----------------------')\n",
        "\n",
        "# python 中的模块导入方式2\n",
        "#  这种方式我们是不推荐的，因为是下载了math 中的整个包，占用空间。\n",
        "import math\n",
        "b = math.sqrt(18)\n",
        "print(b)"
      ],
      "metadata": {
        "colab": {
          "base_uri": "https://localhost:8080/"
        },
        "id": "6KJAjdN4i6PW",
        "outputId": "71f37385-7a72-4c51-8456-dd6bd849e5dd"
      },
      "execution_count": 7,
      "outputs": [
        {
          "output_type": "stream",
          "name": "stdout",
          "text": [
            "3.1622776601683795\n",
            "-----------------------\n",
            "4.242640687119285\n"
          ]
        }
      ]
    },
    {
      "cell_type": "markdown",
      "source": [
        "# how to install django in python\n",
        "\n",
        "方法1：\n",
        "\n",
        "              pip 方法\n",
        "\n",
        "方法2：\n",
        "     \n",
        "              官网下载包进行安装，不推荐\n",
        "\n",
        "方法3：\n",
        "\n",
        "             pycharm 中的安装，可以，在项目中都是可以使用的。\n",
        "\n"
      ],
      "metadata": {
        "id": "GNwAg0NNlgQD"
      }
    },
    {
      "cell_type": "markdown",
      "source": [
        "django如何直接打开：\n",
        "\n",
        "cmd中直接输入 django-admin"
      ],
      "metadata": {
        "id": "1xroET1sp6OP"
      }
    }
  ]
}