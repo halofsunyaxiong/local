{
  "nbformat": 4,
  "nbformat_minor": 0,
  "metadata": {
    "colab": {
      "provenance": [],
      "collapsed_sections": [
        "9jTqv42zcYPC",
        "GNwAg0NNlgQD",
        "KdW-5wHYe3rj"
      ],
      "authorship_tag": "ABX9TyPX/G70oGqsDRc6Sf5ZBH1E",
      "include_colab_link": true
    },
    "kernelspec": {
      "name": "python3",
      "display_name": "Python 3"
    },
    "language_info": {
      "name": "python"
    }
  },
  "cells": [
    {
      "cell_type": "markdown",
      "metadata": {
        "id": "view-in-github",
        "colab_type": "text"
      },
      "source": [
        "<a href=\"https://colab.research.google.com/github/halofsunyaxiong/local/blob/master/morning2023_10_12%E5%A1%A9%E9%A3%BD%E5%85%88%E7%94%9F%E3%81%97%E3%82%8F%E3%81%8F.ipynb\" target=\"_parent\"><img src=\"https://colab.research.google.com/assets/colab-badge.svg\" alt=\"Open In Colab\"/></a>"
      ]
    },
    {
      "cell_type": "markdown",
      "source": [
        "＞＞＞　　このマークは　対話モード"
      ],
      "metadata": {
        "id": "dpawXvvdcacu"
      }
    },
    {
      "cell_type": "markdown",
      "source": [
        "二進数　　にしんすう\n",
        "\n",
        "十進数に変わる\n",
        "\n",
        "\n",
        "\n",
        "\n",
        "---\n",
        "\n",
        "\n",
        "\n",
        "---\n",
        "\n",
        "\n",
        "\n",
        "---\n",
        "\n",
        "\n",
        "\n"
      ],
      "metadata": {
        "id": "DxPnPecrgXnH"
      }
    },
    {
      "cell_type": "markdown",
      "source": [
        "# IOT\n",
        "\n",
        "関連のニュース：\n",
        "\n",
        "画像判別ソリューション　　解（法）解决方案。\n",
        "\n",
        "prediction　one\n",
        "\n",
        "\n",
        "\n",
        "---\n",
        "\n",
        "\n",
        "\n",
        "---\n",
        "\n",
        "\n",
        "\n",
        "---\n",
        "\n"
      ],
      "metadata": {
        "id": "5ibO-McbSkIz"
      }
    },
    {
      "cell_type": "markdown",
      "source": [
        "# '   '.join(   ) の特徴\n"
      ],
      "metadata": {
        "id": "u_FgpQqaZ7G2"
      }
    },
    {
      "cell_type": "code",
      "source": [
        "\n",
        "print(\"こんにちは\")\n",
        "a = ['aaa','bbb','ccc']\n",
        "print(\"66666\".join(a))"
      ],
      "metadata": {
        "colab": {
          "base_uri": "https://localhost:8080/"
        },
        "id": "jdXtXwyHaf7f",
        "outputId": "6672854b-fd4e-4b9f-fea4-0bf6ddd741ac"
      },
      "execution_count": 146,
      "outputs": [
        {
          "output_type": "stream",
          "name": "stdout",
          "text": [
            "こんにちは\n",
            "aaa66666bbb66666ccc\n"
          ]
        }
      ]
    },
    {
      "cell_type": "markdown",
      "source": [
        "# アルゴリズム\n",
        "\n",
        "⏺どのような\n",
        "\n",
        "1.シンプル\n",
        "\n",
        "2.はんようせい\n",
        "\n",
        "3.\n",
        "\n",
        "⏺種類\n",
        "\n",
        "1.配列\n",
        "\n",
        "\n",
        "\n",
        "\n",
        "\n",
        "\n",
        "\n",
        "\n",
        "\n",
        "\n",
        "\n",
        "\n",
        "\n",
        "\n",
        "\n",
        "\n",
        "\n",
        "\n",
        "\n",
        "\n",
        "\n",
        "✅フローチャート　　ふろーちゃーと　　　 flowchart流程图，制成图，作业图等。\n",
        "\n"
      ],
      "metadata": {
        "id": "RFvekGJJ_i1a"
      }
    },
    {
      "cell_type": "markdown",
      "source": [
        "# how to see the version of pythoy   パイソン　の　バージョンを　探し方法\n",
        "# >>> import sys\n",
        "# >>> sys.version"
      ],
      "metadata": {
        "id": "9jTqv42zcYPC"
      }
    },
    {
      "cell_type": "code",
      "source": [
        "# python 中的模块（module）导入方式1\n",
        "\n",
        "\n",
        "from math import sqrt\n",
        "a = sqrt(10)\n",
        "print(a)\n",
        "print('-----------------------')\n",
        "\n",
        "# python 中的模块导入方式2\n",
        "#  这种方式我们是不推荐的，因为是下载了math 中的整个包，占用空间。\n",
        "import math\n",
        "b = math.sqrt(18)\n",
        "print(b)"
      ],
      "metadata": {
        "id": "6KJAjdN4i6PW"
      },
      "execution_count": null,
      "outputs": []
    },
    {
      "cell_type": "markdown",
      "source": [
        "# how to install django in python\n",
        "\n",
        "方法1：\n",
        "\n",
        "              pip 方法\n",
        "\n",
        "方法2：\n",
        "     \n",
        "              官网下载包进行安装，不推荐\n",
        "\n",
        "方法3：\n",
        "\n",
        "             pycharm 中的安装，可以，在项目中都是可以使用的。\n",
        "\n"
      ],
      "metadata": {
        "id": "GNwAg0NNlgQD"
      }
    },
    {
      "cell_type": "markdown",
      "source": [
        "django如何直接打开：\n",
        "\n",
        "cmd中直接输入 django-admin"
      ],
      "metadata": {
        "id": "1xroET1sp6OP"
      }
    },
    {
      "cell_type": "markdown",
      "source": [
        "\n",
        "\n",
        "## 順次  \n",
        "\n",
        "## 繰り返し\n",
        "\n",
        "for i in g:\n",
        "\n",
        "while()\n",
        "\n",
        "##  条件\n",
        "\n",
        "if elif ease"
      ],
      "metadata": {
        "id": "YAFLq-yq8ew1"
      }
    },
    {
      "cell_type": "code",
      "source": [
        "sum = 0\n",
        "for i in range(1,11):\n",
        "  sum = i+i\n",
        "print(sum)\n",
        "# range関数の特徴,具体は下記の通り：\n",
        "# https://colab.research.google.com/drive/1DyH19X-aLbFHHNnidr5jGiMxKqCTArht#scrollTo=C1PuOhFLLQWV&line=9&uniqifier=1\n",
        "for e in range(1,11):\n",
        "  print(e)"
      ],
      "metadata": {
        "id": "r-aOn8OO6IUr"
      },
      "execution_count": null,
      "outputs": []
    },
    {
      "cell_type": "code",
      "source": [
        "a = 1\n",
        "while (a <= 10):\n",
        "  print(a)\n",
        "  a += 1\n"
      ],
      "metadata": {
        "id": "apz02wuRExIv"
      },
      "execution_count": null,
      "outputs": []
    },
    {
      "cell_type": "markdown",
      "source": [
        "# ①変数\n",
        "\n",
        "⏺ 変数とは、　　変数名　＝　値（あたい）\n",
        "\n",
        "変数名の注意点\n",
        "\n",
        "⏺再代入　　　（さいだいにゅう）\n",
        "\n",
        "　　　　　⚓　　　コード01\n",
        "\n",
        "⏺データの　加工　（かこう）\n",
        "\n",
        "実は　文字列の　合併\n",
        "\n",
        "　　　　　⚓　　　コード02\n",
        "\n",
        "⏺文字列のスライス\n",
        "slice片，薄片，切片。切成片，片成片。（薄く切ること。薄く切ったもの。）\n",
        "\n",
        "中国語は　　　　字符串的切片\n",
        "\n",
        "　　　　　⚓　　　コード03\n",
        "\n",
        "\n",
        "⏺文字列の置換　　　（ちかん）\n",
        "\n",
        "　　　　　⚓　　　コード04\n",
        "\n",
        "⏺文字列のぶんわり　（ちかん）\n",
        "\n",
        "　　　　　⚓　　　コード05\n",
        "\n",
        "\n",
        "⏺\n",
        "\n",
        "\n",
        "\n",
        "⏺\n",
        "\n",
        "\n",
        "\n",
        "\n",
        "⏺"
      ],
      "metadata": {
        "id": "KdW-5wHYe3rj"
      }
    },
    {
      "cell_type": "code",
      "source": [
        "# 　コード01⚓\n",
        "# 再代入\n",
        "ta = 23\n",
        "sd = 67\n",
        "ta = sd\n",
        "print(ta)\n",
        "print(sd)"
      ],
      "metadata": {
        "id": "wGzozdyPDimd",
        "colab": {
          "base_uri": "https://localhost:8080/"
        },
        "outputId": "4dd700ad-2553-4ee3-ab2e-977463767a5e"
      },
      "execution_count": 139,
      "outputs": [
        {
          "output_type": "stream",
          "name": "stdout",
          "text": [
            "67\n",
            "67\n"
          ]
        }
      ]
    },
    {
      "cell_type": "code",
      "source": [
        "# 　コード02⚓\n",
        "# 文字列の合併\n",
        "ta = \"カナダさんは\"\n",
        "sd = \"日本人です。\"\n",
        "ta = sd\n",
        "print(ta)\n",
        "print(sd)"
      ],
      "metadata": {
        "id": "ZJWp7s4iI7Wu",
        "colab": {
          "base_uri": "https://localhost:8080/"
        },
        "outputId": "99e09863-e967-4a1c-cd40-f7e815e5d369"
      },
      "execution_count": 140,
      "outputs": [
        {
          "output_type": "stream",
          "name": "stdout",
          "text": [
            "日本人です。\n",
            "日本人です。\n"
          ]
        }
      ]
    },
    {
      "cell_type": "code",
      "source": [
        "# 　コード03　　　　　　　　　　とても重要です。　　　　　　　⚓⚓⚓⚓⚓⚓⚓⚓⚓⚓⚓⚓\n",
        "# 文字列のスライス　　slice 　　　　　　　　　　　　　　　　　⚓⚓⚓⚓⚓⚓\n",
        "s = 'abcdef'       #　　　 0 1 2 3 4 5\n",
        "\n",
        "\n",
        "a = s[1:4]\n",
        "print(a)\n",
        "#　結果：bcd\n",
        "\n",
        "s = 'abcdef'\n",
        "b = s[:]\n",
        "print(b)          #  (abcdef)   f　は　含まれる。（ふくまれる。）\n",
        "#　結果：abcdef\n",
        "\n",
        "s = 'abcdef'\n",
        "e = s[2:3]\n",
        "print(e)          # (cd)   ｄ　は　含まれない。（ふくまれない。）\n",
        "#　結果：ｃ\n",
        "\n",
        "s = 'abcdef'\n",
        "w = s[3:3]\n",
        "print(w)          # (d)   ｄ　は　含まれない。（ふくまれない。）  空いてる\n"
      ],
      "metadata": {
        "id": "AqPtgL7zJ4WS",
        "colab": {
          "base_uri": "https://localhost:8080/"
        },
        "outputId": "735aab1e-74ec-468f-b2fe-cab626a45ed2"
      },
      "execution_count": 141,
      "outputs": [
        {
          "output_type": "stream",
          "name": "stdout",
          "text": [
            "bcd\n",
            "abcdef\n",
            "c\n",
            "\n"
          ]
        }
      ]
    },
    {
      "cell_type": "code",
      "source": [],
      "metadata": {
        "id": "0kiObSJGUkFU"
      },
      "execution_count": 141,
      "outputs": []
    },
    {
      "cell_type": "code",
      "source": [
        "# 　コード05　　　　　　　　　　とても重要です。　　　　　　　⚓⚓⚓⚓⚓⚓⚓⚓⚓⚓⚓⚓\n",
        "# 文字列の分割　　　　　　　　　　　　　　　　　　　　　　　　⚓⚓⚓⚓⚓⚓\n",
        "s = 'this is a pen'\n",
        "r = s.split()\n",
        "print(r)\n",
        "\n",
        "d = '2023/10/12'\n",
        "t = d.split('/')\n",
        "print(t)\n",
        "\n",
        "f = '2023/10/12'\n",
        "o = f.split('/',0)\n",
        "z = f.split('/',1)\n",
        "c = f.split('/',-1)\n",
        "print(o,z,s)"
      ],
      "metadata": {
        "colab": {
          "base_uri": "https://localhost:8080/"
        },
        "id": "Qi6MrLcPUkmR",
        "outputId": "826ecd58-ee4b-4051-bbd3-a2056ea685b2"
      },
      "execution_count": 142,
      "outputs": [
        {
          "output_type": "stream",
          "name": "stdout",
          "text": [
            "['this', 'is', 'a', 'pen']\n",
            "['2023', '10', '12']\n",
            "['2023/10/12'] ['2023', '10/12'] this is a pen\n"
          ]
        }
      ]
    },
    {
      "cell_type": "code",
      "source": [
        "# 東京から大阪まで何時か？\n",
        "\n",
        "Distance_Tokyo_Osaka = 507.5\n",
        "Speed = 100\n",
        "Time = Distance_Tokyo_Osaka / Speed\n",
        "print('東京から大阪までの時間：',Time)"
      ],
      "metadata": {
        "id": "V9ASu-wyp4OT",
        "colab": {
          "base_uri": "https://localhost:8080/"
        },
        "outputId": "b88202d5-040b-4a4b-a142-d117e14dee4f"
      },
      "execution_count": 143,
      "outputs": [
        {
          "output_type": "stream",
          "name": "stdout",
          "text": [
            "東京から大阪までの時間： 5.075\n"
          ]
        }
      ]
    },
    {
      "cell_type": "markdown",
      "source": [
        "# ②print 関数の注意点:"
      ],
      "metadata": {
        "id": "WBiwzuISY3nC"
      }
    },
    {
      "cell_type": "code",
      "source": [
        "# print 関数の注意点:\n",
        "# end=\"\"\n",
        "print(\"Good morning,I am Tom. I come from America.Now I living in TOKYO. Very good to meet you!\",end='')\n",
        "print('hello!! I am  limming.I come from China.')\n",
        "\n",
        "# 文字列\n",
        "a = 'hello!! I amliming.I come from China.'\n",
        "for item in a:\n",
        "  print(item)\n",
        "\n",
        "# \\'          \\\"     \\\\     \\n       \\t\n",
        "print('I cant\\'t speak eglish.')\n",
        "print('HAZAKA said: \\\"he can \\'tspeak english\\\" ')\n",
        "print('HAZAKA said: \\\"he\\t can \\'tspeak english\\\" ')\n",
        "\n",
        "#  \\t   空いている　tab 文字\n",
        "#　\\n  改行　　かいぎょう"
      ],
      "metadata": {
        "id": "sorI3Z6Wp4Uz",
        "colab": {
          "base_uri": "https://localhost:8080/"
        },
        "outputId": "a707375c-8c78-48f7-a962-e5c9e10bf287"
      },
      "execution_count": 144,
      "outputs": [
        {
          "output_type": "stream",
          "name": "stdout",
          "text": [
            "Good morning,I am Tom. I come from America.Now I living in TOKYO. Very good to meet you!hello!! I am  limming.I come from China.\n",
            "h\n",
            "e\n",
            "l\n",
            "l\n",
            "o\n",
            "!\n",
            "!\n",
            " \n",
            "I\n",
            " \n",
            "a\n",
            "m\n",
            "l\n",
            "i\n",
            "m\n",
            "i\n",
            "n\n",
            "g\n",
            ".\n",
            "I\n",
            " \n",
            "c\n",
            "o\n",
            "m\n",
            "e\n",
            " \n",
            "f\n",
            "r\n",
            "o\n",
            "m\n",
            " \n",
            "C\n",
            "h\n",
            "i\n",
            "n\n",
            "a\n",
            ".\n",
            "I cant't speak eglish.\n",
            "HAZAKA said: \"he can 'tspeak english\" \n",
            "HAZAKA said: \"he\t can 'tspeak english\" \n"
          ]
        }
      ]
    },
    {
      "cell_type": "code",
      "source": [
        "#     \"\"\"   \"\"\"  マーク　の　注意点     \"\"\"\\   \"\"\"   这两种符号是不同的，注意。注意看距离虚线的距离就可以得到相关的结论。\n",
        "print('-----------------------------------------------------------------------------------')\n",
        "str1 = \"\"\"\n",
        "今日は休みです、お客様は明日にお越しください。\n",
        "すみませんでした、申し訳ございません。\n",
        "\"\"\"\n",
        "print(str1)\n",
        "print('-----------------------------------------------------------------------------------')\n",
        "str = \"\"\"\\\n",
        " 今日は休みです、お客様は明日にお越しください。\n",
        "すみませんでした、申し訳ございません。\n",
        "\"\"\"\n",
        "print(str)"
      ],
      "metadata": {
        "id": "LK6pyeP97K94",
        "colab": {
          "base_uri": "https://localhost:8080/"
        },
        "outputId": "e3036cc7-2137-4630-8479-c24ee4893648"
      },
      "execution_count": 145,
      "outputs": [
        {
          "output_type": "stream",
          "name": "stdout",
          "text": [
            "-----------------------------------------------------------------------------------\n",
            "\n",
            "今日は休みです、お客様は明日にお越しください。\n",
            "すみませんでした、申し訳ございません。\n",
            "\n",
            "-----------------------------------------------------------------------------------\n",
            " 今日は休みです、お客様は明日にお越しください。\n",
            "すみませんでした、申し訳ございません。\n",
            "\n"
          ]
        }
      ]
    }
  ]
}