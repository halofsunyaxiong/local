{
  "nbformat": 4,
  "nbformat_minor": 0,
  "metadata": {
    "colab": {
      "provenance": [],
      "authorship_tag": "ABX9TyNLkpJEMPzqy0ZIOcvchbzg",
      "include_colab_link": true
    },
    "kernelspec": {
      "name": "python3",
      "display_name": "Python 3"
    },
    "language_info": {
      "name": "python"
    }
  },
  "cells": [
    {
      "cell_type": "markdown",
      "metadata": {
        "id": "view-in-github",
        "colab_type": "text"
      },
      "source": [
        "<a href=\"https://colab.research.google.com/github/sunyaxiong1996/local/blob/master/Untitled2023_10_05_ipynb%E5%A1%A9%E9%A3%BD(%E3%81%97%E3%82%8F%E3%81%8F)%E5%85%88%E7%94%9F.ipynb\" target=\"_parent\"><img src=\"https://colab.research.google.com/assets/colab-badge.svg\" alt=\"Open In Colab\"/></a>"
      ]
    },
    {
      "cell_type": "markdown",
      "source": [
        "\n",
        "プログラム的長所\n",
        "\n",
        "##### すぐに実行できる\n",
        "\n",
        "##### 曖昧な表現できません\n",
        "\n",
        "1 どんな良いことがあるか\n",
        "\n",
        "2 プログラムによって、自動化できる。\n",
        "\n",
        "3 論理的思考力を　ことがある。ゴール\n",
        "\n",
        "4 問題解決のためにスキルを向上させることができる\n",
        "\n",
        "\n",
        " 難解な問題：\n",
        "\n",
        "\n",
        " プログラム　によってみがく鍛える　　　　きたえる　　　ぬかれた　論理的思考力\n",
        "\n",
        "\n",
        " プログラム　によって磨く鍛える　　　　きたえる　　　ぬかれた　論理的思考力"
      ],
      "metadata": {
        "id": "PS7_bPnAk_4w"
      }
    },
    {
      "cell_type": "markdown",
      "source": [
        "pythonとは？\n",
        "\n",
        "歴史：\n",
        "\n",
        "人工知能の\n",
        "\n",
        "python 的特徴:\n",
        "\n",
        "*   可読性の高さ\n",
        "*   ライブラリが豊富\n",
        "> アプリ、科学計算、機械学習\n",
        "\n",
        "\n",
        "* オブジェクト指向\n",
        "*   ｃ++ は　違い\n",
        "*   \n",
        "2.   注意じこう：\n",
        "> 例えば：Java、python、\n",
        "> 英語はobject promgram　具体は：class、object\n",
        "> 中国語は面向对象编程\n",
        "\n",
        "\n",
        "\n",
        "\n",
        "\n",
        "\n",
        "\n",
        "\n",
        "\n",
        "\n"
      ],
      "metadata": {
        "id": "FtRzsZVNq3_h"
      }
    },
    {
      "cell_type": "code",
      "source": [
        "print(3+6)\n",
        "# int\n",
        "print('3+6')\n",
        "# spring\n"
      ],
      "metadata": {
        "colab": {
          "base_uri": "https://localhost:8080/"
        },
        "id": "HeYBHVodr5VM",
        "outputId": "a8db3c3d-b5c4-433c-c4aa-65b5b7cd24ec"
      },
      "execution_count": null,
      "outputs": [
        {
          "output_type": "stream",
          "name": "stdout",
          "text": [
            "9\n",
            "3+6\n"
          ]
        }
      ]
    },
    {
      "cell_type": "code",
      "source": [
        "for i in range(0,5):\n",
        "  print(i)\n"
      ],
      "metadata": {
        "colab": {
          "base_uri": "https://localhost:8080/"
        },
        "id": "A1jyl070tTXC",
        "outputId": "dd0c7e68-40f7-4ab4-abc3-686c5e8bcbe3"
      },
      "execution_count": null,
      "outputs": [
        {
          "output_type": "stream",
          "name": "stdout",
          "text": [
            "0\n",
            "1\n",
            "2\n",
            "3\n",
            "4\n"
          ]
        }
      ]
    },
    {
      "cell_type": "markdown",
      "source": [
        "\n",
        "\n",
        "#  アルゴリズム\n",
        "2.   中国語　は　データ　構造と　　算法\n",
        "3.   問題を解決するための手順方法\n",
        "4.   配列、OR,　　　　　　学習modern(ライブラリ)　　　中国語は〈电算〉程序库。\n",
        "5.   google検索(けんさく　としてどのWEBサイトのWEBページより先に表示するか　　中国语は算法推荐。\n",
        "6.  変数：　実はメモリの中にデータをためる\n",
        "7.  変数の書き方：　変数名　= 値\n",
        "8.  変数の書きの規則：\n",
        "9.  注意点：予約語　よやくご　使えない。\n",
        "10. 変数は　入れる物なので代入文で値を代入。　　　　　だいにゅう\n",
        "11.　文字列は　値　と　ちがいです。結合できる。　けつごう\n",
        "12.　spring                numner  (int , float,)   \n",
        "13.　演算子　えんざんし\n",
        "14.　バージョン　　版本  version\n",
        "\n",
        "\n",
        "\n",
        "\n",
        "\n",
        "\n",
        "\n",
        "\n",
        "\n",
        "\n",
        "\n",
        "\n",
        "\n",
        "\n",
        "\n",
        "\n",
        "\n",
        "\n",
        "\n",
        "\n",
        "\n",
        "\n",
        "\n",
        "\n"
      ],
      "metadata": {
        "id": "vyYzf_s3auKO"
      }
    },
    {
      "cell_type": "code",
      "source": [
        "print('hello world')"
      ],
      "metadata": {
        "colab": {
          "base_uri": "https://localhost:8080/"
        },
        "id": "WJfobIJ80xQz",
        "outputId": "1d63ead1-db2c-4114-884c-6ea2a2ceca77"
      },
      "execution_count": null,
      "outputs": [
        {
          "output_type": "stream",
          "name": "stdout",
          "text": [
            "hello world\n"
          ]
        }
      ]
    },
    {
      "cell_type": "code",
      "execution_count": null,
      "metadata": {
        "colab": {
          "base_uri": "https://localhost:8080/"
        },
        "id": "-iZ0601MjRAI",
        "outputId": "c80d4c78-f916-4b42-f218-700ab0c53732"
      },
      "outputs": [
        {
          "output_type": "stream",
          "name": "stdout",
          "text": [
            "9\n",
            "3.3333333333333335\n",
            "4.800000000000001\n"
          ]
        }
      ],
      "source": [
        "a = 4\n",
        "b = 5\n",
        "c = a + b\n",
        "print(c)\n",
        "# かけ算　わり算　の　優先順位\n",
        "h = 4*5/6\n",
        "print(h)\n",
        "f = 4/5*6\n",
        "print(f)\n",
        "# 結果によると：　わり算　優先\n",
        "#\n"
      ]
    },
    {
      "cell_type": "code",
      "source": [
        "print(7/2)\n",
        "print(7//2)\n",
        "print(7%2)\n",
        "print(2**4)"
      ],
      "metadata": {
        "colab": {
          "base_uri": "https://localhost:8080/"
        },
        "id": "G1o41pHN6PYt",
        "outputId": "f50d0752-db0c-4703-b644-d622f8e22856"
      },
      "execution_count": null,
      "outputs": [
        {
          "output_type": "stream",
          "name": "stdout",
          "text": [
            "3.5\n",
            "3\n",
            "1\n",
            "16\n"
          ]
        }
      ]
    },
    {
      "cell_type": "code",
      "source": [
        "a = 2*3\n",
        "b = 'word' * 3\n",
        "print(a,b)"
      ],
      "metadata": {
        "colab": {
          "base_uri": "https://localhost:8080/"
        },
        "id": "nxnzZ4Lz0DDP",
        "outputId": "2a3ec19d-6f2f-4810-d60d-12a3b68639cd"
      },
      "execution_count": null,
      "outputs": [
        {
          "output_type": "stream",
          "name": "stdout",
          "text": [
            "6 wordwordword\n"
          ]
        }
      ]
    },
    {
      "cell_type": "code",
      "source": [
        "# 変数の内容をへんこう\n",
        "a = 68\n",
        "a += 1\n",
        "a %= 1\n",
        "print(a)\n",
        "\n",
        "\n",
        "a = 3\n",
        "b = a\n",
        "c = b\n",
        "print(c)\n",
        "\n",
        "\n",
        "a = 4\n",
        "a **= 4\n",
        "print(a)\n",
        "\n",
        "\n",
        "_Flower = 'SUNflower'\n",
        "print(_Flower)\n",
        "\n",
        "\n"
      ],
      "metadata": {
        "colab": {
          "base_uri": "https://localhost:8080/"
        },
        "id": "Z5OxrJBW0YIL",
        "outputId": "82310e42-99a8-4a64-fff6-b42820978682"
      },
      "execution_count": null,
      "outputs": [
        {
          "output_type": "stream",
          "name": "stdout",
          "text": [
            "0\n",
            "3\n",
            "256\n",
            "SUNflower\n"
          ]
        }
      ]
    },
    {
      "cell_type": "code",
      "source": [
        "q = -3 // 2\n",
        "w = -4 ** 2\n",
        "e = (-8) ** 2\n",
        "r = 4 * 3.0 / 2\n",
        "#  float\n",
        "print(\"以上の演算子のあたいは：\", q,w,e,r,\"正しいあたい\")\n",
        "print('today is a good day.',end='')\n",
        "print('tomrrow is a good day,too.')"
      ],
      "metadata": {
        "colab": {
          "base_uri": "https://localhost:8080/"
        },
        "id": "qeoKhl962of8",
        "outputId": "10902b63-14b5-4adf-97c4-6f79abaadbff"
      },
      "execution_count": null,
      "outputs": [
        {
          "output_type": "stream",
          "name": "stdout",
          "text": [
            "以上の演算子のあたいは： -2 -16 64 6.0 正しいあたい\n",
            "today is a good day.tomrrow is a good day,too.\n"
          ]
        }
      ]
    },
    {
      "cell_type": "code",
      "source": [
        "rose_v = 500\n",
        "sun_v = 400\n",
        "tulip_v = 700\n",
        "rose_c = 18\n",
        "sun_c = 8 -2\n",
        "tulip_c = 21 - 5\n",
        "rate = 0.9\n",
        "sum_v = (rose_c * rose_v  ) + (tulip_v  * tulip_c) + (sun_c * sun_v)\n",
        "payment = sum_v * rate\n",
        "print('買い物の合計は',sum_v,'円')\n",
        "print('割引してもらうと',payment,'円')"
      ],
      "metadata": {
        "colab": {
          "base_uri": "https://localhost:8080/"
        },
        "id": "F2-imHD-HHC4",
        "outputId": "0809569d-056d-4ff7-fe42-b99dbe2866f3"
      },
      "execution_count": null,
      "outputs": [
        {
          "output_type": "stream",
          "name": "stdout",
          "text": [
            "買い物の合計は 22600 円\n",
            "割引してもらうと 20340.0 円\n"
          ]
        }
      ]
    }
  ]
}