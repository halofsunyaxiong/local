{
  "nbformat": 4,
  "nbformat_minor": 0,
  "metadata": {
    "colab": {
      "provenance": [],
      "toc_visible": true,
      "authorship_tag": "ABX9TyNjQWLQG9BfxaA4U0YIiLr8",
      "include_colab_link": true
    },
    "kernelspec": {
      "name": "python3",
      "display_name": "Python 3"
    },
    "language_info": {
      "name": "python"
    }
  },
  "cells": [
    {
      "cell_type": "markdown",
      "metadata": {
        "id": "view-in-github",
        "colab_type": "text"
      },
      "source": [
        "<a href=\"https://colab.research.google.com/github/sunyaxiong1996/local/blob/master/%E8%87%AA%E5%88%86%E4%BD%9C%E3%82%8B.ipynb\" target=\"_parent\"><img src=\"https://colab.research.google.com/assets/colab-badge.svg\" alt=\"Open In Colab\"/></a>"
      ]
    },
    {
      "cell_type": "code",
      "execution_count": null,
      "metadata": {
        "id": "ixG7ra9dcHu0"
      },
      "outputs": [],
      "source": [
        "Temperature = input('please input the temperature of water')\n",
        "if int(Temperature) == 100:\n",
        "  print(\"the water is hot water!\")\n",
        "elif    60  <= int(Temperature) and int(Temperature)  < 99:\n",
        "  print('the water is not hot water, not cold water')\n",
        "else:\n",
        "  print('the water is cold water')\n"
      ]
    },
    {
      "cell_type": "markdown",
      "source": [
        "# 第五集 求前n个数字的平方和\n",
        "\n",
        "输入：数字n\n",
        "计算：1的2次方+2的2次方+   + n的2次方"
      ],
      "metadata": {
        "id": "rAlEDcncF4MD"
      }
    },
    {
      "cell_type": "code",
      "source": [
        "def sum_of_square(n):\n",
        "  count = 0\n",
        "  for number in range(1,n+1):\n",
        "    count += number * number\n",
        "  return count\n",
        "\n",
        "\n",
        "print(\"3的平方和是：\",sum_of_square(3))\n",
        "\n",
        "print(\"10的平方和是：\",sum_of_square(10))\n",
        "\n",
        "print(\"100的平方和是：\",sum_of_square(100))\n",
        ""
      ],
      "metadata": {
        "id": "qsR96qsxGWZi"
      },
      "execution_count": null,
      "outputs": []
    },
    {
      "cell_type": "code",
      "source": [
        "# range(start,stop) 其默认是start == 0，stop == n-1.\n",
        "\n",
        "for i in range(1,5):\n",
        "  print(i)\n",
        "# range(1,5)   result= 1,2,3,4\n",
        "\n",
        "# 比如range(5)  result= 0,1,2,3,4\n",
        "\n",
        "\n",
        "# ####range(start,stop,[step])  step是步长，表示在start，stop-1之间的数字中 start，start+step，start+step，。。。。。\n",
        "for i2 in range(1,10,2):\n",
        "  print(i2)\n",
        "# result = 1,3,5,7,9\n",
        "\n",
        "\n",
        "for i3 in range(0,-20,-4):\n",
        "  print(i3)\n",
        "# result = 0,-4,-8,-12,-16\n",
        "\n"
      ],
      "metadata": {
        "id": "C1PuOhFLLQWV"
      },
      "execution_count": null,
      "outputs": []
    }
  ]
}