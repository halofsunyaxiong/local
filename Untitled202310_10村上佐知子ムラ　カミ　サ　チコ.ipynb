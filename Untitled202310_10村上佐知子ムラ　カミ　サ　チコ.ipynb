{
  "nbformat": 4,
  "nbformat_minor": 0,
  "metadata": {
    "colab": {
      "provenance": [],
      "authorship_tag": "ABX9TyPNnQKriP7ecEe/wZ5AcFrE",
      "include_colab_link": true
    },
    "kernelspec": {
      "name": "python3",
      "display_name": "Python 3"
    },
    "language_info": {
      "name": "python"
    }
  },
  "cells": [
    {
      "cell_type": "markdown",
      "metadata": {
        "id": "view-in-github",
        "colab_type": "text"
      },
      "source": [
        "<a href=\"https://colab.research.google.com/github/sunyaxiong1996/local/blob/master/Untitled202310_10%E6%9D%91%E4%B8%8A%E4%BD%90%E7%9F%A5%E5%AD%90%E3%83%A0%E3%83%A9%E3%80%80%E3%82%AB%E3%83%9F%E3%80%80%E3%82%B5%E3%80%80%E3%83%81%E3%82%B3.ipynb\" target=\"_parent\"><img src=\"https://colab.research.google.com/assets/colab-badge.svg\" alt=\"Open In Colab\"/></a>"
      ]
    },
    {
      "cell_type": "markdown",
      "source": [
        "# IH18 クラウドアプリケーション開発\n",
        "\n",
        "システム開発手法を習得し、設計に基づいたシステム開発フェーズを経験する\n",
        "\n",
        "\n",
        "ことにより開発の基礎知識を習得する。進級制作展の作品制作。\n",
        "\n",
        "\n",
        "訓練5回\n",
        "\n",
        "\n",
        "評価１回"
      ],
      "metadata": {
        "id": "RPl0WbOgBxJ6"
      }
    },
    {
      "cell_type": "markdown",
      "source": [
        "目的、手法\n",
        "\n",
        "プロセス\n",
        "\n",
        "**hal event　week　進級作品展示**\n",
        "\n",
        "\n",
        "\n",
        "\n",
        "\n"
      ],
      "metadata": {
        "id": "mT8JEoFZDQ0e"
      }
    },
    {
      "cell_type": "markdown",
      "source": [
        "# アプリケーション開発とは：\n",
        "\n",
        "## １上流工程\n",
        "\n",
        "1.要件定義：エンドユーザーにとって必要な機能と**併（あわせて）せ**て　定義していく。\n",
        "\n",
        "2.外部設計：UI ユーザーインターフェース\n",
        "\n",
        "3.内部．．．：データベースサーバや他の　システム　との　連携など。　（れんけい）\n",
        "\n",
        "\n",
        "---\n",
        "## ２下流工程\n",
        "\n",
        "4.プログラみんぐ：\n",
        "\n",
        "5.テスト：仕様通り、ユーザーテスト；プログラムテスト；運用テスト；システムテスト；結合テスト；\n",
        "\n",
        "6.リリース：移管やストア申請を\n",
        "\n",
        "7.保守、運用（うんよう）：\n",
        "\n",
        "\n",
        "# waterfall  　　　　　　　中国语言：     瀑布式开发\n",
        "\n",
        "\n",
        "# まとめ：主に外部設計について　　（おもに）\n",
        "\n",
        "\n",
        "\n",
        "\n",
        "\n",
        "\n",
        "\n",
        "\n",
        "\n",
        "\n",
        "\n",
        "\n"
      ],
      "metadata": {
        "id": "oFF3lR5xEtKN"
      }
    }
  ]
}